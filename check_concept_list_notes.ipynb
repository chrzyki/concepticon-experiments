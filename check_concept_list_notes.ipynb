{
 "cells": [
  {
   "cell_type": "code",
   "execution_count": null,
   "metadata": {
    "collapsed": true
   },
   "outputs": [],
   "source": [
    "from check_concept_list import *"
   ]
  },
  {
   "cell_type": "code",
   "execution_count": null,
   "metadata": {},
   "outputs": [],
   "source": [
    "# Right now, we've got the following checks available:\n",
    "# check_if_gloss_is_in_concepticon: Are the glosses available in Concepticon?\n",
    "# check_if_gloss_matches_id: If there is a gloss, does it mach its respective\n",
    "#   Concepticon ID?\n",
    "# check_if_proposed: List all proposed ('!') glosses.\n",
    "# check_if_proposed_gloss_has_null_id: If a gloss is proposed, verify that it\n",
    "#   doesn't have a Concepticon ID.\n",
    "# check_if_id_unique: Is the ID in the ID row unique?\n",
    "# check_if_concepticon_id_unique: Are the Concepticon IDs used in a unique\n",
    "#   fashion?\n",
    "\n",
    "input_file_concepts = '' # TSV input\n",
    "\n",
    "concepts_from_file = concept_to_concept_row(\n",
    "    input_file_concepts, get_headers(input_file_concepts)\n",
    ")\n",
    "\n",
    "con = ConcepticonMapper()\n",
    "concepticon_glosses = con.get_all_concepticon_glosses()\n",
    "concept_id_pairs = con.get_gloss_id_pairs()"
   ]
  },
  {
   "cell_type": "code",
   "execution_count": null,
   "metadata": {},
   "outputs": [],
   "source": [
    "wrong_gloss = []\n",
    "for concept_from_file in concepts_from_file:\n",
    "    c = concept_from_file.check_if_gloss_is_in_concepticon(concepticon_glosses)\n",
    "    if not c[0]:\n",
    "        wrong_gloss.append(c)\n",
    "\n",
    "for e in wrong_gloss:\n",
    "    print(e)"
   ]
  },
  {
   "cell_type": "code",
   "execution_count": null,
   "metadata": {},
   "outputs": [],
   "source": [
    "gloss_id_mismatch = []\n",
    "for concept_from_file in concepts_from_file:\n",
    "    c = concept_from_file.check_if_gloss_matches_id(concept_id_pairs)\n",
    "    if not c[0]:\n",
    "        gloss_id_mismatch.append(c)\n",
    "\n",
    "for e in gloss_id_mismatch:\n",
    "    print(e)"
   ]
  },
  {
   "cell_type": "code",
   "execution_count": null,
   "metadata": {},
   "outputs": [],
   "source": [
    "proposed_glosses = []\n",
    "for concept_from_file in concepts_from_file:\n",
    "    c = concept_from_file.check_if_proposed_gloss()\n",
    "    if c[0]:\n",
    "        proposed_glosses.append(c)\n",
    "\n",
    "for e in proposed_glosses:\n",
    "    print(e)"
   ]
  },
  {
   "cell_type": "code",
   "execution_count": null,
   "metadata": {},
   "outputs": [],
   "source": [
    "wrongly_proposed_gloss = []\n",
    "for concept_from_file in concepts_from_file:\n",
    "    c = concept_from_file.check_if_proposed_gloss_has_null_id()\n",
    "    if not c[0]:\n",
    "        wrongly_proposed_gloss.append(c)\n",
    "\n",
    "for e in wrongly_proposed_gloss:\n",
    "    print(e)"
   ]
  },
  {
   "cell_type": "code",
   "execution_count": null,
   "metadata": {},
   "outputs": [],
   "source": [
    "# TODO: This is a very (quadratic?) inefficient way of comparing all elements.\n",
    "violating_uniqueness = []\n",
    "for concept_from_file in concepts_from_file:\n",
    "    c = concept_from_file.check_if_id_unique(concepts_from_file)\n",
    "    if c:\n",
    "        violating_uniqueness.append(c)\n",
    "\n",
    "for e in violating_uniqueness:\n",
    "    print(e)"
   ]
  },
  {
   "cell_type": "code",
   "execution_count": null,
   "metadata": {},
   "outputs": [],
   "source": [
    "# TODO: This is a very (quadratic?) inefficient way of comparing all elements.\n",
    "violating_concepticon_uniqueness = []\n",
    "for concept_from_file in concepts_from_file:\n",
    "    c = concept_from_file.check_if_concepticon_id_unique(concepts_from_file)\n",
    "    if c:\n",
    "        violating_concepticon_uniqueness.append(c)\n",
    "\n",
    "for e in violating_concepticon_uniqueness:\n",
    "    print(e)"
   ]
  }
 ],
 "metadata": {
  "kernelspec": {
   "display_name": "Python 2",
   "language": "python",
   "name": "python2"
  },
  "language_info": {
   "codemirror_mode": {
    "name": "ipython",
    "version": 2
   },
   "file_extension": ".py",
   "mimetype": "text/x-python",
   "name": "python",
   "nbconvert_exporter": "python",
   "pygments_lexer": "ipython2",
   "version": "2.7.6"
  }
 },
 "nbformat": 4,
 "nbformat_minor": 0
}
