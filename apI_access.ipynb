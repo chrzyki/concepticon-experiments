{
 "cells": [
  {
   "cell_type": "code",
   "execution_count": 25,
   "metadata": {
    "collapsed": true
   },
   "outputs": [],
   "source": [
    "from pyconcepticon.api import Concepticon\n",
    "from urllib import request\n",
    "import zipfile"
   ]
  },
  {
   "cell_type": "code",
   "execution_count": 26,
   "metadata": {},
   "outputs": [],
   "source": [
    "concepticon_master_data = request.urlopen(\n",
    "    'https://github.com/clld/concepticon-data/archive/master.zip'\n",
    ")\n",
    "\n",
    "with open('master.zip', 'b+w') as f:\n",
    "    f.write(concepticon_master_data.read())\n",
    "    \n",
    "with zipfile.ZipFile('master.zip', 'r') as f:\n",
    "    f.extractall('.')"
   ]
  },
  {
   "cell_type": "code",
   "execution_count": 32,
   "metadata": {},
   "outputs": [],
   "source": [
    "api = Concepticon('concepticon-data-master')"
   ]
  },
  {
   "cell_type": "code",
   "execution_count": 47,
   "metadata": {},
   "outputs": [
    {
     "name": "stdout",
     "output_type": "stream",
     "text": [
      "Conceptlist(_api=<pyconcepticon.api.Concepticon object at 0x104297400>, id='Hill-2017-240', author='Hill, Nathan W. and List, Johann-Mattis', year=2017, list_suffix='', items=240, tags=['areal', 'basic'], source_language=['english'], target_language='Burmish languages', url='https://zenodo.org/record/886116', refs=['Hill2017'], pdf=[], note='This list is a small subset of the larage list of almost 2000 items which was used for the survey of Sino-Tibetan languages by [Huáng (1992)](:bib:Huang1992), usually called the *Tibet-Burman lexicon* or simply abbreviated as TBL. The authors slightly modified the glosses in their investigation of Burmish languages in the TBL, but the links to the are added in the column TBL_ID.', pages='', alias=[])\n"
     ]
    }
   ],
   "source": [
    "concept_list = list(api.conceptlists.values())\n",
    "print(concept_list[0])"
   ]
  },
  {
   "cell_type": "code",
   "execution_count": 48,
   "metadata": {},
   "outputs": [
    {
     "name": "stdout",
     "output_type": "stream",
     "text": [
      "['areal', 'basic']\n"
     ]
    }
   ],
   "source": [
    "print(concept_list[0].tags)"
   ]
  },
  {
   "cell_type": "code",
   "execution_count": 59,
   "metadata": {},
   "outputs": [
    {
     "name": "stdout",
     "output_type": "stream",
     "text": [
      "ABOVE\nALL\nANT\nARMPIT\nBAD\nBAMBOO\nBARLEY\nBE ALIVE\nBELLY\nBELOW OR UNDER\nBIG\nBIRD\nBITE\nBLACK\nBLOOD\nBLOW (OF WIND)\nHAIR (BODY)\nBONE\nBRANCH\nBREAST\nBURNING\nBUY\nCHEW\nCHILD (YOUNG HUMAN)\nCLOUD\nCOLD\nCOME\nCORRECT (RIGHT)\nCOUNT\nCOUNT\nDARK\nDAUGHTER\nDEW\nDIE\nDIG\nDIRTY\nDOG\nDREAM\nDRINK\nDRY\nDUST\nEAR\nEARLY\nEARTH (SOIL)\nEARTHWORM\nEAT\nEGG\nEIGHT\nEYE\nFAR\nFATHER\nFEATHER\nFIGHT\nFIRE\nFIREWOOD\nFISH\nFIVE\nFLEA\nFLOAT\nFLOW\nFLOWER\nFLY (MOVE THROUGH AIR)\nFOG\nFOOT\nFOREST\nFOUR\nFOX\nFROG\nFRONT (PART)\nFROST\nFRUIT\nFULL\nGIVE\nGOAT\nGOOD\nGRASS\nGREEN\nHAIL\nHAIR\nHAND\nHARD\nHE OR SHE OR IT\nHEAD\nHEAR\nHEART\nHEAVY\nHERE\nHIDE (CONCEAL)\nHIGH\nHOLD\nHOOF\nHORIZONTAL\nHORN (ANATOMY)\nHORSE\nHOT\nHOUSE\nHUNDRED\nHUNT\nHUSBAND\nI\nICE\nINSIDE\nKILL\nKNEE\nLAKE\nLATE\nLAUGH\nLEAF (LEAFLIKE OBJECT)\nLEFT\nLICK\nLIE DOWN\nLIGHT (WEIGHT)\nLIP\nLIVER\nLONG\nLOUSE\nLUNG\nMALE PERSON\nMANY\nMEAT\nMIDDLE\nMOON\nMORNING\nMOSQUITO\nMOTHER\nMOUNTAIN\nMUROID (MOUSE OR RAT)\nMOUTH\nMUD\nCLAW OR NAIL\nNAME\nNARROW\nNEAR\nNECK\nNEEDLE (FOR SEWING)\nNEW\nNINE\nNIT\nMIDDAY\nNOSE\nOLD (AGED)\nONE\nOTTER\nOUTSIDE\nPIG\nPLANT (SOMETHING)\nPLAY\nPULL\nPUSH\nRAIN (PRECIPITATION)\nRAINBOW\nRED\nRESIDE\nRICE PLANT\nRIGHT\nRIVER\nROAD\nROOT\nROPE\nROUND\nSALT\nSALTY\nSAND\nSCRATCH\nSEA\nSEE\nSEED\nSEVEN\nSHARP\nSHEEP\nSHOOT\nSHORT\nSHOULDER\nSHY\nSICKLE\nSING\nSIX\nSKIN\nSKY\nSLEEP\nSMALL\nSMELL (PERCEIVE)\nSMOKE (EXHAUST)\nSMOOTH\nSNAKE\nSNOW\nSOFT\nSON\nSPARROW\nSPIDER\nSPIT\nSTAND\nSTAR\nSTEAL\nSTICK\nSTONE\nSTRAIGHT\nSUN\nTAIL\nTEN\nTHAT\nTHERE\nTHICK\nTHIGH\nTHINK (REFLECT)\nTHIS\nTHOU\nTHREE\nTHROW\nTHUNDER\nTIGER\nTODAY\nTOMORROW\nTONGUE\nTOOTH\nTREE\nTWENTY\nTWO\nVOMIT\nWALK\nWATER\nWE (INCLUSIVE)\nWET\nWHAT\nWHEAT\nWHERE\nWHITE\nWHO\nWIFE\nWIND\nWING\nWIPE\nWOLF\nWOMAN\nWOOD\nYEAR\nYELLOW\nYESTERDAY\nYOU\nYOUNG\n"
     ]
    }
   ],
   "source": [
    "for k,v in concept_list[0].concepts.items():\n",
    "    print(v.concepticon_gloss)"
   ]
  },
  {
   "cell_type": "code",
   "execution_count": null,
   "metadata": {},
   "outputs": [],
   "source": []
  }
 ],
 "metadata": {
  "kernelspec": {
   "display_name": "Python 2",
   "language": "python",
   "name": "python2"
  },
  "language_info": {
   "codemirror_mode": {
    "name": "ipython",
    "version": 2
   },
   "file_extension": ".py",
   "mimetype": "text/x-python",
   "name": "python",
   "nbconvert_exporter": "python",
   "pygments_lexer": "ipython2",
   "version": "2.7.6"
  }
 },
 "nbformat": 4,
 "nbformat_minor": 0
}
